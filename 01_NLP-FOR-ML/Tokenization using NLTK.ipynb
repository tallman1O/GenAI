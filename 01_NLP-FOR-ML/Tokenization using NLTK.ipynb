{
  "nbformat": 4,
  "nbformat_minor": 0,
  "metadata": {
    "colab": {
      "provenance": []
    },
    "kernelspec": {
      "name": "python3",
      "display_name": "Python 3"
    },
    "language_info": {
      "name": "python"
    }
  },
  "cells": [
    {
      "cell_type": "code",
      "execution_count": 1,
      "metadata": {
        "colab": {
          "base_uri": "https://localhost:8080/"
        },
        "id": "dLlCq6_ct1kl",
        "outputId": "8827dd94-e3ef-4037-8baf-ffea9965716f"
      },
      "outputs": [
        {
          "output_type": "stream",
          "name": "stdout",
          "text": [
            "\n",
            "Hello Welcome to the world of Natural Language Processing.\n",
            "\n",
            "This is a simple example to demonstrate the use of NLTK library in Python.\n",
            "\n",
            "NLTK stands for Natural Language Toolkit. \n",
            "\n"
          ]
        }
      ],
      "source": [
        "corpus = '''\n",
        "Hello Welcome to the world of Natural Language Processing.\\n\n",
        "This is a simple example to demonstrate the use of NLTK library in Python.\\n\n",
        "NLTK stands for Natural Language Toolkit.\n",
        "'''\n",
        "\n",
        "print(corpus)"
      ]
    },
    {
      "cell_type": "code",
      "source": [
        "import nltk\n",
        "nltk.download('punkt_tab')\n"
      ],
      "metadata": {
        "colab": {
          "base_uri": "https://localhost:8080/"
        },
        "id": "PTDXNJzLt--F",
        "outputId": "259269fc-36b3-45a0-9381-bf5665731d8a"
      },
      "execution_count": 4,
      "outputs": [
        {
          "output_type": "stream",
          "name": "stderr",
          "text": [
            "[nltk_data] Downloading package punkt_tab to /root/nltk_data...\n",
            "[nltk_data]   Package punkt_tab is already up-to-date!\n"
          ]
        },
        {
          "output_type": "execute_result",
          "data": {
            "text/plain": [
              "True"
            ]
          },
          "metadata": {},
          "execution_count": 4
        }
      ]
    },
    {
      "cell_type": "code",
      "source": [
        "from nltk.tokenize import sent_tokenize\n",
        "\n",
        "documents = sent_tokenize(corpus)"
      ],
      "metadata": {
        "id": "WgtDZ9kcuE2l"
      },
      "execution_count": 7,
      "outputs": []
    },
    {
      "cell_type": "code",
      "source": [
        "type(documents)"
      ],
      "metadata": {
        "colab": {
          "base_uri": "https://localhost:8080/"
        },
        "id": "E_ps4D1HuOyM",
        "outputId": "c3227000-acb4-4586-a010-25f4274d8b6d"
      },
      "execution_count": 8,
      "outputs": [
        {
          "output_type": "execute_result",
          "data": {
            "text/plain": [
              "list"
            ]
          },
          "metadata": {},
          "execution_count": 8
        }
      ]
    },
    {
      "cell_type": "code",
      "source": [
        "print(documents)"
      ],
      "metadata": {
        "colab": {
          "base_uri": "https://localhost:8080/"
        },
        "id": "2AwQFC1ouj2Z",
        "outputId": "a88c93c0-9f72-4f4c-c57c-6966030f2fc3"
      },
      "execution_count": 10,
      "outputs": [
        {
          "output_type": "stream",
          "name": "stdout",
          "text": [
            "['\\nHello Welcome to the world of Natural Language Processing.', 'This is a simple example to demonstrate the use of NLTK library in Python.', 'NLTK stands for Natural Language Toolkit.']\n"
          ]
        }
      ]
    },
    {
      "cell_type": "code",
      "source": [
        "for sentence in documents:\n",
        "  print(sentence)"
      ],
      "metadata": {
        "colab": {
          "base_uri": "https://localhost:8080/"
        },
        "id": "BYhFwSNeunCK",
        "outputId": "7a30b964-584e-4b48-cc4f-31db50af3a7f"
      },
      "execution_count": 11,
      "outputs": [
        {
          "output_type": "stream",
          "name": "stdout",
          "text": [
            "\n",
            "Hello Welcome to the world of Natural Language Processing.\n",
            "This is a simple example to demonstrate the use of NLTK library in Python.\n",
            "NLTK stands for Natural Language Toolkit.\n"
          ]
        }
      ]
    },
    {
      "cell_type": "code",
      "source": [
        "from nltk.tokenize import word_tokenize\n",
        "\n",
        "words = word_tokenize(corpus)\n",
        "\n",
        "words"
      ],
      "metadata": {
        "colab": {
          "base_uri": "https://localhost:8080/"
        },
        "id": "_glEI1Neutp8",
        "outputId": "af8dbd95-a0cf-49d6-8045-2d57f8cb77ac"
      },
      "execution_count": 12,
      "outputs": [
        {
          "output_type": "execute_result",
          "data": {
            "text/plain": [
              "['Hello',\n",
              " 'Welcome',\n",
              " 'to',\n",
              " 'the',\n",
              " 'world',\n",
              " 'of',\n",
              " 'Natural',\n",
              " 'Language',\n",
              " 'Processing',\n",
              " '.',\n",
              " 'This',\n",
              " 'is',\n",
              " 'a',\n",
              " 'simple',\n",
              " 'example',\n",
              " 'to',\n",
              " 'demonstrate',\n",
              " 'the',\n",
              " 'use',\n",
              " 'of',\n",
              " 'NLTK',\n",
              " 'library',\n",
              " 'in',\n",
              " 'Python',\n",
              " '.',\n",
              " 'NLTK',\n",
              " 'stands',\n",
              " 'for',\n",
              " 'Natural',\n",
              " 'Language',\n",
              " 'Toolkit',\n",
              " '.']"
            ]
          },
          "metadata": {},
          "execution_count": 12
        }
      ]
    },
    {
      "cell_type": "code",
      "source": [
        "for sentence in documents:\n",
        "  print(word_tokenize(sentence))"
      ],
      "metadata": {
        "colab": {
          "base_uri": "https://localhost:8080/"
        },
        "id": "_wW9T9_1uyqU",
        "outputId": "1d522b70-cd5c-4aac-8216-d080e026ba6d"
      },
      "execution_count": 13,
      "outputs": [
        {
          "output_type": "stream",
          "name": "stdout",
          "text": [
            "['Hello', 'Welcome', 'to', 'the', 'world', 'of', 'Natural', 'Language', 'Processing', '.']\n",
            "['This', 'is', 'a', 'simple', 'example', 'to', 'demonstrate', 'the', 'use', 'of', 'NLTK', 'library', 'in', 'Python', '.']\n",
            "['NLTK', 'stands', 'for', 'Natural', 'Language', 'Toolkit', '.']\n"
          ]
        }
      ]
    },
    {
      "cell_type": "code",
      "source": [
        "from nltk.tokenize import wordpunct_tokenize\n",
        "\n",
        "words = wordpunct_tokenize(corpus)\n",
        "\n",
        "words"
      ],
      "metadata": {
        "colab": {
          "base_uri": "https://localhost:8080/"
        },
        "id": "ayyvGH_xvEMu",
        "outputId": "06b3c33b-096b-49e7-e3ce-a9235a7251ad"
      },
      "execution_count": 14,
      "outputs": [
        {
          "output_type": "execute_result",
          "data": {
            "text/plain": [
              "['Hello',\n",
              " 'Welcome',\n",
              " 'to',\n",
              " 'the',\n",
              " 'world',\n",
              " 'of',\n",
              " 'Natural',\n",
              " 'Language',\n",
              " 'Processing',\n",
              " '.',\n",
              " 'This',\n",
              " 'is',\n",
              " 'a',\n",
              " 'simple',\n",
              " 'example',\n",
              " 'to',\n",
              " 'demonstrate',\n",
              " 'the',\n",
              " 'use',\n",
              " 'of',\n",
              " 'NLTK',\n",
              " 'library',\n",
              " 'in',\n",
              " 'Python',\n",
              " '.',\n",
              " 'NLTK',\n",
              " 'stands',\n",
              " 'for',\n",
              " 'Natural',\n",
              " 'Language',\n",
              " 'Toolkit',\n",
              " '.']"
            ]
          },
          "metadata": {},
          "execution_count": 14
        }
      ]
    },
    {
      "cell_type": "code",
      "source": [],
      "metadata": {
        "id": "bMR5KN26vNY7"
      },
      "execution_count": null,
      "outputs": []
    }
  ]
}